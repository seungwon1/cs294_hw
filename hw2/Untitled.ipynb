{
 "cells": [
  {
   "cell_type": "code",
   "execution_count": 31,
   "metadata": {},
   "outputs": [
    {
     "name": "stdout",
     "output_type": "stream",
     "text": [
      "The autoreload extension is already loaded. To reload it, use:\n",
      "  %reload_ext autoreload\n"
     ]
    }
   ],
   "source": [
    "import numpy as np\n",
    "import tensorflow as tf\n",
    "%load_ext autoreload\n",
    "%autoreload 2\n",
    "from train_pg_f18 import *\n",
    "import math"
   ]
  },
  {
   "cell_type": "code",
   "execution_count": 40,
   "metadata": {},
   "outputs": [
    {
     "name": "stdout",
     "output_type": "stream",
     "text": [
      "[[2]\n",
      " [0]\n",
      " [0]\n",
      " [2]\n",
      " [3]]\n",
      "(5, 1)\n",
      "[2 1 0 3 2] (5,)\n"
     ]
    }
   ],
   "source": [
    "\n",
    "\n",
    "c = tf.random.categorical(logits = np.ones((5,4)), num_samples =1)\n",
    "c2 = tf.reshape(c, [-1])\n",
    "with tf.Session() as sess:\n",
    "    d = sess.run(c)\n",
    "    d2 = sess.run(c2)\n",
    "print(d) \n",
    "print(d.shape)\n",
    "print(d2, d2.shape)"
   ]
  },
  {
   "cell_type": "code",
   "execution_count": null,
   "metadata": {},
   "outputs": [],
   "source": []
  },
  {
   "cell_type": "code",
   "execution_count": 32,
   "metadata": {},
   "outputs": [
    {
     "name": "stdout",
     "output_type": "stream",
     "text": [
      "\u001b[33mWARN: gym.spaces.Box autodetected dtype as <class 'numpy.float32'>. Please provide explicit dtype.\u001b[0m\n",
      "Episode finished after 12 timesteps\n",
      "Episode finished after 17 timesteps\n",
      "Episode finished after 11 timesteps\n",
      "Episode finished after 16 timesteps\n",
      "Episode finished after 19 timesteps\n",
      "Episode finished after 45 timesteps\n",
      "Episode finished after 32 timesteps\n",
      "Episode finished after 23 timesteps\n",
      "Episode finished after 15 timesteps\n",
      "Episode finished after 11 timesteps\n",
      "Episode finished after 57 timesteps\n",
      "Episode finished after 15 timesteps\n",
      "Episode finished after 22 timesteps\n",
      "Episode finished after 53 timesteps\n",
      "Episode finished after 31 timesteps\n",
      "Episode finished after 17 timesteps\n",
      "Episode finished after 19 timesteps\n",
      "Episode finished after 18 timesteps\n",
      "Episode finished after 31 timesteps\n",
      "Episode finished after 12 timesteps\n"
     ]
    }
   ],
   "source": [
    "import gym\n",
    "env = gym.make('CartPole-v0')\n",
    "rew_his = []\n",
    "\n",
    "for i_episode in range(20):\n",
    "    observation = env.reset()\n",
    "    rew = 0\n",
    "    for t in range(100):\n",
    "        env.render()\n",
    "        /#print(observation)\n",
    "        action = env.action_space.sample()\n",
    "        observation, reward, done, info = env.step(action)\n",
    "        rew += reward\n",
    "        if done:\n",
    "            print(\"Episode finished after {} timesteps\".format(t+1))\n",
    "            break\n",
    "    rew_his.append(rew)\n",
    "env.close()"
   ]
  },
  {
   "cell_type": "code",
   "execution_count": 33,
   "metadata": {},
   "outputs": [
    {
     "name": "stdout",
     "output_type": "stream",
     "text": [
      "[12.0, 17.0, 11.0, 16.0, 19.0, 45.0, 32.0, 23.0, 15.0, 11.0, 57.0, 15.0, 22.0, 53.0, 31.0, 17.0, 19.0, 18.0, 31.0, 12.0]\n",
      "\n",
      "mean: 23.8\n"
     ]
    }
   ],
   "source": [
    "print(rew_his)\n",
    "print()\n",
    "print('mean:', np.mean(rew_his))"
   ]
  },
  {
   "cell_type": "code",
   "execution_count": null,
   "metadata": {},
   "outputs": [],
   "source": []
  },
  {
   "cell_type": "code",
   "execution_count": null,
   "metadata": {},
   "outputs": [],
   "source": []
  },
  {
   "cell_type": "code",
   "execution_count": 2,
   "metadata": {},
   "outputs": [],
   "source": [
    "a = []\n",
    "\n",
    "a.append(np.ones((5,)))\n",
    "a.append(np.ones((4,)))\n",
    "a.append(np.ones((6,)))\n",
    "a.append(np.ones((3,)))"
   ]
  },
  {
   "cell_type": "code",
   "execution_count": 15,
   "metadata": {},
   "outputs": [
    {
     "data": {
      "text/plain": [
       "array([1., 1., 1., 1., 1., 1., 1., 1., 1.])"
      ]
     },
     "execution_count": 15,
     "metadata": {},
     "output_type": "execute_result"
    }
   ],
   "source": [
    "np.hstack((np.ones((5,)), np.ones((4,))))"
   ]
  },
  {
   "cell_type": "code",
   "execution_count": 13,
   "metadata": {},
   "outputs": [
    {
     "name": "stdout",
     "output_type": "stream",
     "text": [
      "[1. 1. 1. 1. 1.]\n",
      "5.0\n",
      "[5. 5. 5. 5. 5.]\n",
      "[1. 1. 1. 1.]\n",
      "4.0\n",
      "[4. 4. 4. 4.]\n",
      "[1. 1. 1. 1. 1. 1.]\n",
      "6.0\n",
      "[6. 6. 6. 6. 6. 6.]\n",
      "[1. 1. 1.]\n",
      "3.0\n",
      "[3. 3. 3.]\n"
     ]
    }
   ],
   "source": [
    "a\n",
    "for j in a:\n",
    "    print(j)\n",
    "    print(np.sum(np.array(j)))\n",
    "    print(j*np.sum(np.array(j)))"
   ]
  },
  {
   "cell_type": "code",
   "execution_count": 10,
   "metadata": {},
   "outputs": [
    {
     "data": {
      "text/plain": [
       "4"
      ]
     },
     "execution_count": 10,
     "metadata": {},
     "output_type": "execute_result"
    }
   ],
   "source": [
    "np.hstack(a)\n",
    "len(a)"
   ]
  },
  {
   "cell_type": "code",
   "execution_count": null,
   "metadata": {},
   "outputs": [],
   "source": []
  },
  {
   "cell_type": "code",
   "execution_count": 27,
   "metadata": {},
   "outputs": [
    {
     "data": {
      "text/plain": [
       "5"
      ]
     },
     "execution_count": 27,
     "metadata": {},
     "output_type": "execute_result"
    }
   ],
   "source": [
    "len(np.ones(5,))"
   ]
  },
  {
   "cell_type": "code",
   "execution_count": 26,
   "metadata": {},
   "outputs": [
    {
     "data": {
      "text/plain": [
       "array([ 1.,  2.,  4.,  8., 16.])"
      ]
     },
     "execution_count": 26,
     "metadata": {},
     "output_type": "execute_result"
    }
   ],
   "source": [
    "gamma = 2\n",
    "\n",
    "np.geomspace(1, 2**4, num=5)"
   ]
  },
  {
   "cell_type": "code",
   "execution_count": 15,
   "metadata": {},
   "outputs": [],
   "source": [
    "a = []\n",
    "\n",
    "a.append(np.ones((5,)))\n",
    "a.append(np.ones((4,)))\n",
    "a.append(np.ones((6,)))\n",
    "a.append(np.ones((3,)))\n",
    "\n"
   ]
  },
  {
   "cell_type": "code",
   "execution_count": 20,
   "metadata": {},
   "outputs": [
    {
     "data": {
      "text/plain": [
       "array([1., 1., 1., 1., 1., 1., 1., 1., 1., 1., 1., 1., 1., 1., 1., 1., 1.,\n",
       "       1.])"
      ]
     },
     "execution_count": 20,
     "metadata": {},
     "output_type": "execute_result"
    }
   ],
   "source": [
    "np.hstack(a).ravel()"
   ]
  },
  {
   "cell_type": "code",
   "execution_count": null,
   "metadata": {},
   "outputs": [],
   "source": []
  },
  {
   "cell_type": "code",
   "execution_count": null,
   "metadata": {},
   "outputs": [],
   "source": [
    "agentt = Agent"
   ]
  },
  {
   "cell_type": "code",
   "execution_count": 31,
   "metadata": {
    "collapsed": true
   },
   "outputs": [
    {
     "name": "stdout",
     "output_type": "stream",
     "text": [
      "(32, 5) [[-4.69931811e-02  1.02999449e-01 -6.29050210e-02 -1.89057946e-01\n",
      "   8.05720389e-02]\n",
      " [ 1.35244250e-01 -9.01301265e-01  1.47474334e-02  6.53059125e-01\n",
      "  -3.42480600e-01]\n",
      " [ 4.88065720e-01 -8.98461491e-02 -2.26276264e-01  2.76843011e-01\n",
      "   1.57984108e-01]\n",
      " [ 1.47151023e-01 -5.61738014e-03  3.48476321e-03  4.31437075e-01\n",
      "   7.77807891e-01]\n",
      " [-1.02003360e+00 -2.31248647e-01 -4.67961729e-02  4.91349578e-01\n",
      "  -4.78857160e-01]\n",
      " [-1.03207076e+00  2.10597262e-01  1.30666882e-01  1.04146965e-01\n",
      "  -1.91832319e-01]\n",
      " [ 5.68055809e-01 -6.98110521e-01 -5.90415120e-01  2.80043721e-01\n",
      "  -1.20537713e-01]\n",
      " [-8.86808634e-02  1.22532964e-01 -1.53636232e-01 -9.14593041e-02\n",
      "   1.11717892e+00]\n",
      " [-1.94952905e-01  3.92291218e-01  7.60088146e-01 -9.76043344e-01\n",
      "  -2.20442265e-02]\n",
      " [ 2.43998304e-01  5.80326438e-01 -4.73160446e-02 -2.32926905e-01\n",
      "   1.04481839e-01]\n",
      " [ 1.86258763e-01 -5.71553349e-01  3.29314023e-01 -3.19563568e-01\n",
      "   4.43237960e-01]\n",
      " [-2.00900346e-01 -2.56709814e-01 -1.42537355e-01  3.89200091e-01\n",
      "   3.32768202e-01]\n",
      " [-3.61079693e-01  2.89438516e-01  2.99175024e-01 -6.77461565e-01\n",
      "   2.38227859e-01]\n",
      " [-1.02632308e+00  2.32830435e-01  6.00389838e-01 -4.48330075e-01\n",
      "  -1.34745687e-01]\n",
      " [ 1.18061459e+00  2.21381173e-01 -2.82834709e-01 -5.59905171e-01\n",
      "   1.50863338e+00]\n",
      " [ 6.94056094e-01 -3.56351703e-01 -1.46958977e-04 -4.18807864e-01\n",
      "   4.76650536e-01]\n",
      " [ 1.54493511e-01  4.54503953e-01  1.05259284e-01 -5.89349866e-01\n",
      "   9.87639189e-01]\n",
      " [-1.22049868e+00  2.65490323e-01  2.07300276e-01  4.49474782e-01\n",
      "  -8.87881696e-01]\n",
      " [-3.47807735e-01  2.20843852e-01 -3.32899213e-01  3.45659912e-01\n",
      "  -9.47423756e-01]\n",
      " [ 7.41772115e-01  2.36396164e-01 -6.38979018e-01 -2.63540447e-01\n",
      "  -7.54375011e-03]\n",
      " [-4.30741072e-01 -2.60403812e-01  3.59265894e-01 -7.12318048e-02\n",
      "  -7.52407849e-01]\n",
      " [ 3.19924593e-01 -5.29929101e-01 -2.18050629e-01  1.90719143e-01\n",
      "  -9.30241525e-01]\n",
      " [-3.91463459e-01  9.14841652e-01  7.55030513e-01 -8.96824062e-01\n",
      "  -3.63169909e-01]\n",
      " [-3.79875571e-01  9.79248226e-01 -2.49934942e-03 -7.54605949e-01\n",
      "   1.74614772e-01]\n",
      " [ 7.15994596e-01  7.99074769e-03 -8.84204388e-01 -1.24861896e-02\n",
      "   4.69734192e-01]\n",
      " [ 5.27041197e-01  4.47245866e-01 -2.80928612e-01 -4.09114510e-01\n",
      "   1.01940846e+00]\n",
      " [ 5.11051007e-02 -2.32997000e-01 -7.26259589e-01  9.78073776e-01\n",
      "   3.75720441e-01]\n",
      " [ 1.24932811e-01 -4.59578037e-01 -2.09703907e-01  2.61834681e-01\n",
      "   3.91479164e-01]\n",
      " [ 1.96702778e-03  8.81430209e-01  1.78579792e-01 -6.70946956e-01\n",
      "   5.04988313e-01]\n",
      " [-5.12780786e-01 -6.11080050e-01 -5.03401756e-01  7.49968171e-01\n",
      "   9.43074226e-01]\n",
      " [ 8.04386199e-01 -9.62602794e-01 -2.41637766e-01  2.08546147e-01\n",
      "   5.80509543e-01]\n",
      " [ 1.08633626e+00 -6.05359852e-01 -5.59805751e-01  2.55491063e-02\n",
      "   9.17173475e-02]]\n",
      "(10, 20)\n",
      "(20,)\n",
      "(20, 20)\n",
      "(20,)\n",
      "(20, 5)\n",
      "(5,)\n",
      "[<tf.Variable 'test/dense/kernel:0' shape=(10, 20) dtype=float32_ref>, <tf.Variable 'test/dense/bias:0' shape=(20,) dtype=float32_ref>, <tf.Variable 'test/dense_1/kernel:0' shape=(20, 20) dtype=float32_ref>, <tf.Variable 'test/dense_1/bias:0' shape=(20,) dtype=float32_ref>, <tf.Variable 'test/dense_2/kernel:0' shape=(20, 5) dtype=float32_ref>, <tf.Variable 'test/dense_2/bias:0' shape=(5,) dtype=float32_ref>]\n",
      "[-0.26312196  0.270496   -0.5857621  -0.04407233  0.54237914]\n"
     ]
    }
   ],
   "source": [
    "# 2-(a), (b) test done - (1), (2) :  test done\n",
    "tf.reset_default_graph()\n",
    "input_ph = tf.placeholder(tf.float32, [None, 10])\n",
    "input_arr = np.random.randn(32,10)\n",
    "sy_logstd = tf.get_variable('std', shape = 5, dtype=tf.float32)\n",
    "\n",
    "with tf.Session() as sess:\n",
    "    out = build_mlp(input_ph, output_size = 5, scope = 'test', n_layers = 2, size = 20)\n",
    "    var = tf.get_collection(tf.GraphKeys.TRAINABLE_VARIABLES, scope= 'test')\n",
    "    sess.run(tf.global_variables_initializer())    \n",
    "    out_arr = sess.run([out, var], feed_dict={input_ph:input_arr})\n",
    "    std = sess.run(sy_logstd)\n",
    "print(out_arr[0].shape, out_arr[0])\n",
    "for j in out_arr[1]:\n",
    "    print(j.shape)\n",
    "#\n",
    "print(var)\n",
    "print(std, std.shape)"
   ]
  },
  {
   "cell_type": "code",
   "execution_count": 134,
   "metadata": {
    "collapsed": true
   },
   "outputs": [
    {
     "name": "stdout",
     "output_type": "stream",
     "text": [
      "z =  [-0.27874848  0.07826985  1.2372148   1.04118   ]\n",
      "z2 =  [[0.15438868 0.328141   0.25468242 0.60012186]] (1, 4)\n",
      "sy_sampled_ac =  (5, 4)\n",
      "\n",
      "mean =  [[-0.88155433  0.67220327 -2.01542004 -0.39923055]\n",
      " [ 1.19103707 -0.15253355  1.00513595 -0.47525845]\n",
      " [-1.44814544  0.68849058 -0.65442876  0.70160376]\n",
      " [ 0.0191899  -1.057263    0.59087228  0.79974818]\n",
      " [-0.80300126 -0.11019391 -0.18371083  0.04181748]]\n",
      "\n",
      "sy_smapled_ac =  [[-0.72716565  1.00034427 -1.76073762  0.20089131]\n",
      " [ 1.34542575  0.17560745  1.25981838  0.12486341]\n",
      " [-1.29375676  1.01663158 -0.39974634  1.30172562]\n",
      " [ 0.17357858 -0.729122    0.8455547   1.39987003]\n",
      " [-0.64861258  0.2179471   0.07097159  0.64193933]]\n"
     ]
    }
   ],
   "source": [
    "# 2-(3): test done\n",
    "tf.reset_default_graph()\n",
    "\"\"\"\n",
    "tf.random.normal(\n",
    "    shape,\n",
    "    mean=0.0,\n",
    "    stddev=1.0,\n",
    "    dtype=tf.dtypes.float32,\n",
    "    seed=None,\n",
    "    name=None\n",
    ")\n",
    "\"\"\"\n",
    "#samples = tf.random.categorical(np.ones((6,10)), 1)\n",
    "#samples2 = tf.reshape(samples, [-1])\n",
    "z = tf.random.normal(shape=(4,), stddev = np.random.randn(4,))\n",
    "z2 = tf.expand_dims(z, axis = 0)\n",
    "mean = np.random.randn(5,4)\n",
    "with tf.Session() as sess:\n",
    "    #res = sess.run(samples)\n",
    "    #print(res)\n",
    "    \n",
    "    #res2 = sess.run(samples2)\n",
    "    #print(res2, res2.shape)\n",
    "    zz = sess.run(z)\n",
    "    zz2 = sess.run(z2)\n",
    "#print(varr)\n",
    "#res.shape\n",
    "print('z = ',zz)\n",
    "print('z2 = ', zz2, zz2.shape)\n",
    "print('sy_sampled_ac = ', (mean+zz2).shape)\n",
    "print()\n",
    "print('mean = ', mean)\n",
    "print()\n",
    "print('sy_smapled_ac = ', mean+zz2)"
   ]
  },
  {
   "cell_type": "code",
   "execution_count": 147,
   "metadata": {},
   "outputs": [
    {
     "name": "stdout",
     "output_type": "stream",
     "text": [
      "ss:  [[ 0.44122749 -0.33087015  2.43077119 -0.25209213  0.10960984]\n",
      " [ 1.58248112 -0.9092324  -0.59163666  0.18760323 -0.32986996]]\n",
      "\n",
      "softmax [[0.10008091 0.04624167 0.7318113  0.05003183 0.07183424]\n",
      " [0.62811214 0.0519876  0.07142164 0.15568595 0.09279266]]\n",
      "\n",
      "log prob [[-2.3017762  -3.073874   -0.3122326  -2.995096   -2.633394  ]\n",
      " [-0.46503657 -2.9567502  -2.6391544  -1.8599144  -2.3773878 ]]\n"
     ]
    }
   ],
   "source": [
    "# pr2 (4), (5)\n",
    "np.random.seed(5)\n",
    "inputt = tf.placeholder(tf.float32, [2,5])\n",
    "ss = np.random.randn(2,5)\n",
    "print('ss: ', ss)\n",
    "cc1 = tf.nn.softmax(inputt, axis  =1)\n",
    "cc = tf.log(cc1+1e-10)\n",
    "with tf.Session() as sess:\n",
    "    \n",
    "    ress = sess.run([cc, cc1], feed_dict={inputt:ss})\n",
    "\n",
    "print()\n",
    "print('softmax',ress[1])\n",
    "print()\n",
    "print('log prob',ress[0])"
   ]
  },
  {
   "cell_type": "code",
   "execution_count": null,
   "metadata": {},
   "outputs": [],
   "source": []
  }
 ],
 "metadata": {
  "kernelspec": {
   "display_name": "Python 3",
   "language": "python",
   "name": "python3"
  },
  "language_info": {
   "codemirror_mode": {
    "name": "ipython",
    "version": 3
   },
   "file_extension": ".py",
   "mimetype": "text/x-python",
   "name": "python",
   "nbconvert_exporter": "python",
   "pygments_lexer": "ipython3",
   "version": "3.6.8"
  }
 },
 "nbformat": 4,
 "nbformat_minor": 2
}
